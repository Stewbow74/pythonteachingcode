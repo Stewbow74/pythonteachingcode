{
 "cells": [
  {
   "cell_type": "markdown",
   "metadata": {},
   "source": [
    "# Module 3 Practice 1\n",
    "## Conditionals \n",
    "<font size=\"5\" color=\"#00A0B2\"  face=\"verdana\"> <B>Student will be able to</B></font>  \n",
    "- **control code flow with `if`... `else` conditional logic**  \n",
    "  - using Boolean string methods (`.isupper(), .isalpha(), .startswith()...`)  \n",
    "  - using comparision (`>, <, >=, <=, ==, !=`)  \n",
    "  - using Strings in comparisons  \n",
    "\n",
    "## `if else`\n"
   ]
  },
  {
   "cell_type": "code",
   "execution_count": 7,
   "metadata": {},
   "outputs": [
    {
     "name": "stdout",
     "output_type": "stream",
     "text": [
      "Input your age (use only whole numbers): 23\n",
      "Age's first type is:  <class 'int'>\n",
      "Age's second type is:  <class 'int'>\n",
      "In ten years you will be 33.\n"
     ]
    }
   ],
   "source": [
    "# [ ] input a variable: age as digit and cast to int\n",
    "# if age greater than or equal to 12 then print message on age in 10 years \n",
    "# or else print message \"It is good to be\" age\n",
    "age = int(input(\"Input your age (use only whole numbers): \"))\n",
    "print(\"Age's first type is: \",type(age))\n",
    "age = int(age)\n",
    "print(\"Age's second type is: \",type(age))\n",
    "\n",
    "if age >= 12:\n",
    "    print(\"In ten years you will be \"+str(age+10)+\".\")\n",
    "else:\n",
    "    print(\"It is good to be \"+str(age)+\".\")\n",
    "\n",
    "\n",
    "\n"
   ]
  },
  {
   "cell_type": "code",
   "execution_count": 3,
   "metadata": {
    "collapsed": true
   },
   "outputs": [
    {
     "name": "stdout",
     "output_type": "stream",
     "text": [
      "The number 101 is greater than 100: True\n"
     ]
    }
   ],
   "source": [
    "# input a number \n",
    "# if number IS a digit string then cast to int\n",
    "# print number \"greater than 100 is\" True/False\n",
    "# if number is NOT# a digit string then message the user that \"only int is accepted\"\n",
    "# Input a number\n",
    "user_input = input(\"Enter a number: \")\n",
    "if user_input.isdigit():\n",
    "    number = int(user_input)\n",
    "\n",
    "    is_greater_than_100 = number > 100\n",
    "    \n",
    "    print(f\"The number {number} is greater than 100: {is_greater_than_100}\")\n",
    "else:\n",
    "    print(\"Only integers are accepted.\")\n",
    "\n"
   ]
  },
  {
   "cell_type": "markdown",
   "metadata": {},
   "source": [
    "### Guessing a letter A-Z  \n",
    "**check_guess()** takes 2 string arguments: **letter and guess** (both expect single alphabetical character)   \n",
    "    - if guess is not an alpha character print invalid and return False\n",
    "    - test and print if guess is \"high\" or \"low\" and return False\n",
    "    - test and print if guess is \"correct\" and return True"
   ]
  },
  {
   "cell_type": "code",
   "execution_count": 14,
   "metadata": {
    "collapsed": true
   },
   "outputs": [],
   "source": [
    "# [ ] create check_guess()\n",
    "# call with test\n",
    "\n",
    "def check_guess(letter , user_guess):\n",
    "    if user_guess.isalpha():\n",
    "        if user_guess == letter:\n",
    "            print(user_guess , \"is correct!\")\n",
    "            return(True)\n",
    "        elif user_guess > letter:\n",
    "            print(user_guess , \"is too high\")\n",
    "            return(False)\n",
    "        elif user_guess < letter:\n",
    "            print((user_guess) , \"is too low\")\n",
    "            return(False)\n",
    "    else:\n",
    "        print(\"INVALID\")\n",
    "        return(False)\n",
    "\n"
   ]
  },
  {
   "cell_type": "code",
   "execution_count": 18,
   "metadata": {
    "collapsed": true
   },
   "outputs": [
    {
     "name": "stdout",
     "output_type": "stream",
     "text": [
      "H is too low\n"
     ]
    },
    {
     "data": {
      "text/plain": [
       "False"
      ]
     },
     "execution_count": 18,
     "metadata": {},
     "output_type": "execute_result"
    }
   ],
   "source": [
    "# [ ] call check_guess with user input\n",
    "letter = input(\"Enter a letter to guess:\")\n",
    "letter = letter.capitalize()\n",
    "user_guess = input(\"Enter a guess:\")\n",
    "user_guess = user_guess.capitalize()\n",
    "\n",
    "check_guess(letter, user_guess)\n",
    "\n"
   ]
  },
  {
   "cell_type": "markdown",
   "metadata": {},
   "source": [
    "### Letter Guess\n",
    "**create letter_guess() function that gives user 3 guesses**\n",
    "- takes a letter character argument for the answer letter\n",
    "- gets user input for letter guess  \n",
    "- calls check_guess() with answer and guess\n",
    "- End letter_guess if \n",
    "    - check_guess() equals True, return True  \n",
    "    - or after 3 failed attempts, return False"
   ]
  },
  {
   "cell_type": "code",
   "execution_count": 19,
   "metadata": {
    "collapsed": true
   },
   "outputs": [
    {
     "name": "stdout",
     "output_type": "stream",
     "text": [
      "h is too high\n",
      "You have 2 guess attempts. Try again!\n",
      "e is too high\n",
      "You have 1 guess attempts. Try again!\n",
      "c is correct!\n"
     ]
    },
    {
     "data": {
      "text/plain": [
       "True"
      ]
     },
     "execution_count": 19,
     "metadata": {},
     "output_type": "execute_result"
    }
   ],
   "source": [
    "# [ ] create letter_guess() function, call the function to test\n",
    "def letter_guess(letter):\n",
    "    guess = input(\"enter a letter guess: \")\n",
    "    if check_guess(letter, guess) == True:\n",
    "        return True\n",
    "    else:\n",
    "        print(\"You have 2 guess attempts. Try again!\")\n",
    "        pass\n",
    "    guess = input(\"enter a letter guess: \")\n",
    "    if check_guess(letter, guess) == True:\n",
    "        return True\n",
    "    else:\n",
    "        print(\"You have 1 guess attempts. Try again!\")\n",
    "        pass\n",
    "    guess = input(\"enter a letter guess: \")\n",
    "    if check_guess(letter, guess) == True:\n",
    "        return True\n",
    "    else:\n",
    "        print(\"You have 0 guess attempts. You fail.\")\n",
    "        return False\n",
    "\n",
    "letter = 'c'\n",
    "letter_guess(letter)\n",
    "\n"
   ]
  },
  {
   "cell_type": "markdown",
   "metadata": {},
   "source": [
    "### Pet Conversation\n",
    "**ask the user for a sentence about a pet and then reply**  \n",
    "- get user input in variable: about_pet\n",
    "- using a series of **if** statements respond with appropriate conversation\n",
    "  - check if \"dog\" is in the string about_pet (sample reply \"Ah, a dog\")\n",
    "  - check if \"cat\" is in the string about_pet\n",
    "  - check if 1 or more animal is in string about_pet\n",
    "- no need for **else**'s\n",
    "- finish with thanking for the story"
   ]
  },
  {
   "cell_type": "code",
   "execution_count": 20,
   "metadata": {
    "collapsed": true
   },
   "outputs": [
    {
     "name": "stdout",
     "output_type": "stream",
     "text": [
      "Ah, a cat!\n"
     ]
    }
   ],
   "source": [
    "# [ ] complete pet conversation\n",
    "about_pet = input(\"Tell me about your pet: \")\n",
    "\n",
    "if \"dog\" in about_pet:\n",
    "    print(\"Ah, a dog!\")\n",
    "if \"cat\" in about_pet:\n",
    "    print(\"Ah, a cat!\")\n",
    "if \"parrot\" in about_pet:\n",
    "    print(\"Ah, a parrot!\")\n"
   ]
  },
  {
   "cell_type": "markdown",
   "metadata": {},
   "source": [
    "# Module 3 Practice 2\n",
    "## conditionals, type, and mathematics extended   \n",
    "&nbsp;\n",
    "<font size=\"5\" color=\"#00A0B2\"  face=\"verdana\"> <B>Student will be able to</B></font>  \n",
    "- code more than two choices using **`elif`** \n",
    "- gather numeric input using type casting  \n",
    "- perform subtraction, multiplication and division operations in code  &nbsp;  \n"
   ]
  },
  {
   "cell_type": "markdown",
   "metadata": {},
   "source": [
    "# &nbsp;  \n",
    "<font size=\"6\" color=\"#B24C00\"  face=\"verdana\"> <B>Tasks</B></font>"
   ]
  },
  {
   "cell_type": "markdown",
   "metadata": {},
   "source": [
    "### Rainbow colors\n",
    "ask for input of a favorite rainbow color first letter: ROYGBIV  \n",
    "\n",
    "Using `if`, `elif`, and `else`:  \n",
    "- print the color matching the letter  \n",
    "    - R = Red  \n",
    "    - O = Orange  \n",
    "    - Y = Yellow  \n",
    "    - G = Green\n",
    "    - B = Blue\n",
    "    - I = Indigo\n",
    "    - V = Violet\n",
    "    - else print \"no match\"\n"
   ]
  },
  {
   "cell_type": "code",
   "execution_count": 23,
   "metadata": {},
   "outputs": [
    {
     "name": "stdout",
     "output_type": "stream",
     "text": [
      "R = Red\n"
     ]
    }
   ],
   "source": [
    "# [ ] complete rainbow colors\n",
    "color = input(\"enter rainbow color firest letter (ROYGBIV): \")\n",
    "\n",
    "if color == 'R':\n",
    "    print(\"R = Red\")\n",
    "elif color == 'O':\n",
    "    print(\"O = Orange\")\n",
    "elif color == 'Y':\n",
    "    print(\"Y = Yellow\")\n",
    "elif color == 'G':\n",
    "    print(\"G = Green\")\n",
    "elif color == 'B':\n",
    "    print(\"B = Blue\")\n",
    "elif color == 'I':\n",
    "    print(\"I = Indigo\")\n",
    "elif color == 'V':\n",
    "    print(\"V = Violet\")\n",
    "else:\n",
    "    print(\"no match\")\n",
    "\n"
   ]
  },
  {
   "cell_type": "code",
   "execution_count": 3,
   "metadata": {},
   "outputs": [
    {
     "name": "stdout",
     "output_type": "stream",
     "text": [
      "no match\n",
      "V = Violet\n",
      "I = Indigo\n",
      "B = Blue\n",
      "G = Green\n",
      "Y = Yellow\n",
      "O = Orange\n",
      "R = Red\n",
      "no match\n"
     ]
    }
   ],
   "source": [
    "# [ ] make the code above into a function rainbow_color() that has a string parameter, \n",
    "# get input and call the function and return the matching color as a string or \"no match\" message.\n",
    "# Call the function and print the return string.\n",
    "def rainbow_color(color):\n",
    "    if color == 'R':\n",
    "        return \"R = Red\"\n",
    "    elif color == 'O':\n",
    "        return \"O = Orange\"\n",
    "    elif color == 'Y':\n",
    "        return \"Y = Yellow\"\n",
    "    elif color == 'G':\n",
    "        return \"G = Green\"\n",
    "    elif color == 'B':\n",
    "        return \"B = Blue\"\n",
    "    elif color == 'I':\n",
    "        return \"I = Indigo\"\n",
    "    elif color == 'V':\n",
    "        return \"V = Violet\"\n",
    "    else:\n",
    "        return \"no match\"\n",
    "        \n",
    "color = input(\"enter rainbow color firest letter (ROYGBIV): \")\n",
    "print(rainbow_color(color))\n",
    "\n",
    "color = 'V'\n",
    "print(rainbow_color(color))\n",
    "color = 'I'\n",
    "print(rainbow_color(color))\n",
    "color = 'B'\n",
    "print(rainbow_color(color))\n",
    "color = 'G'\n",
    "print(rainbow_color(color))\n",
    "color = 'Y'\n",
    "print(rainbow_color(color))\n",
    "color = 'O'\n",
    "print(rainbow_color(color))\n",
    "color = 'R'\n",
    "print(rainbow_color(color))\n",
    "color = 'Z'\n",
    "print(rainbow_color(color))\n"
   ]
  },
  {
   "cell_type": "markdown",
   "metadata": {},
   "source": [
    "# &nbsp;  \n",
    "**Create function age_20() that adds or subtracts 20 from your age for a return value based on current age** (use `if`) \n",
    "- call the funtion with user input and then use the return value in a sentence  \n",
    "example `age_20(25)` returns **5**: \n",
    "> \"5 years old, 20 years difference from now\""
   ]
  },
  {
   "cell_type": "code",
   "execution_count": 4,
   "metadata": {},
   "outputs": [
    {
     "name": "stdout",
     "output_type": "stream",
     "text": [
      "4 years old, 20 years difference from now\n",
      "39 years old, 20 years difference from now\n"
     ]
    }
   ],
   "source": [
    "# [ ] complete age_20()\n",
    "def age_20(age):\n",
    "    if age > 20:\n",
    "        return str(age - 20) + \" years old, 20 years difference from now\"\n",
    "    else:\n",
    "        return str(age + 20) + \" years old, 20 years difference from now\"\n",
    "\n",
    "print(age_20(24))\n",
    "print(age_20(19))\n"
   ]
  },
  {
   "cell_type": "markdown",
   "metadata": {},
   "source": [
    "**create a function rainbow_or_age that takes a string argument**\n",
    "- if argument is a digit return the value of calling age_20() with the str value cast as **`int`** \n",
    "- if argument is an alphabetical character return the value of calling rainbow_color() with the str\n",
    "- if neither return FALSE"
   ]
  },
  {
   "cell_type": "code",
   "execution_count": 5,
   "metadata": {},
   "outputs": [
    {
     "name": "stdout",
     "output_type": "stream",
     "text": [
      "V = Violet\n",
      "R = Red\n",
      "no match\n",
      "4 years old, 20 years difference from now\n",
      "39 years old, 20 years difference from now\n",
      "20 years old, 20 years difference from now\n",
      "no match\n",
      "False\n"
     ]
    }
   ],
   "source": [
    "# [ ]  create rainbow_or_age()\n",
    "def rainbow_or_age(arg):\n",
    "    if arg.isdigit():\n",
    "        return age_20(int(arg))\n",
    "    elif arg.isalpha():\n",
    "        return rainbow_color(arg)\n",
    "    else:\n",
    "        return False\n",
    "    \n",
    "arg = 'V'\n",
    "print(rainbow_or_age(arg))\n",
    "arg = 'R'\n",
    "print(rainbow_or_age(arg))\n",
    "arg = 'Z'\n",
    "print(rainbow_or_age(arg))\n",
    "arg = '24'\n",
    "print(rainbow_or_age(arg))\n",
    "arg = '19'\n",
    "print(rainbow_or_age(arg))\n",
    "arg = '0'\n",
    "print(rainbow_or_age(arg))\n",
    "arg = 'someting'\n",
    "print(rainbow_or_age(arg))\n",
    "arg = '?'\n",
    "print(rainbow_or_age(arg))\n"
   ]
  },
  {
   "cell_type": "code",
   "execution_count": 1,
   "metadata": {},
   "outputs": [
    {
     "name": "stdout",
     "output_type": "stream",
     "text": [
      "24\n"
     ]
    }
   ],
   "source": [
    "# [ ]  add 2 numbers from input using a cast to integer and display the answer \n",
    "num_1 = input(\"enter a number\")\n",
    "num_2 = input(\"enter a second number\")\n",
    "sum = int(num_1) + int(num_2)\n",
    "print(sum)\n"
   ]
  },
  {
   "cell_type": "code",
   "execution_count": 1,
   "metadata": {},
   "outputs": [
    {
     "name": "stdout",
     "output_type": "stream",
     "text": [
      "the answer is 15\n"
     ]
    }
   ],
   "source": [
    "# [ ] Multiply 2 numbers from input using cast and save the answer as part of a string \"the answer is...\"\n",
    "# display the string using print\n",
    "num1 = int(input(\"enter a number: \"))\n",
    "num2 = int(input(\"enter a number: \"))\n",
    "print(\"the answer is\", num1 * num2)\n"
   ]
  },
  {
   "cell_type": "code",
   "execution_count": 4,
   "metadata": {},
   "outputs": [
    {
     "name": "stdout",
     "output_type": "stream",
     "text": [
      "12.0\n"
     ]
    }
   ],
   "source": [
    "# [ ] get input of 2 numbers and display the average: (num1 + num2) divided by 2\n",
    "num_1 = input(\"enter a number\")\n",
    "num_2 = input(\"enter a second number\")\n",
    "average = (int(num_1) + int(num_2)) / 2\n",
    "print(average)\n"
   ]
  },
  {
   "cell_type": "code",
   "execution_count": 5,
   "metadata": {},
   "outputs": [
    {
     "name": "stdout",
     "output_type": "stream",
     "text": [
      "-1\n"
     ]
    }
   ],
   "source": [
    "# [ ] get input of 2 numbers and subtract the largest from the smallest (use an if statement to see which is larger)\n",
    "# show the answer\n",
    "num_1 = input(\"enter a number\")\n",
    "num_2 = input(\"enter a second number\")\n",
    "if num_1<num_2:\n",
    "    print(int(num_1) - int(num_2))\n",
    "else:\n",
    "    print(int(num_2) - int(num_1))\n"
   ]
  },
  {
   "cell_type": "code",
   "execution_count": 7,
   "metadata": {},
   "outputs": [
    {
     "name": "stdout",
     "output_type": "stream",
     "text": [
      "1\n"
     ]
    }
   ],
   "source": [
    "# [ ] Divide a larger number by a smaller number and print the integer part of the result\n",
    "# don't divide by zero! if a zero is input make the result zero\n",
    "# [ ] cast the answer to an integer to cut off the decimals and print the result\n",
    "num_1 = input(\"enter a number\")\n",
    "num_2 = input(\"enter a second number\")\n",
    "if num_1 == \"0\" or num_2 == \"0\":\n",
    "    print(\"0\")\n",
    "elif num_1<num_2:\n",
    "    print(int(int(num_2)/ int(num_1)))\n",
    "else:\n",
    "    print(int(int(num_1) / int(num_2)))\n",
    "\n"
   ]
  },
  {
   "cell_type": "markdown",
   "metadata": {
    "collapsed": true
   },
   "source": [
    "[Terms of use](http://go.microsoft.com/fwlink/?LinkID=206977) &nbsp; [Privacy & cookies](https://go.microsoft.com/fwlink/?LinkId=521839) &nbsp; © 2017 Microsoft"
   ]
  }
 ],
 "metadata": {
  "anaconda-cloud": {},
  "kernelspec": {
   "display_name": "Python 3",
   "language": "python",
   "name": "python3"
  },
  "language_info": {
   "codemirror_mode": {
    "name": "ipython",
    "version": 3
   },
   "file_extension": ".py",
   "mimetype": "text/x-python",
   "name": "python",
   "nbconvert_exporter": "python",
   "pygments_lexer": "ipython3",
   "version": "3.12.6"
  }
 },
 "nbformat": 4,
 "nbformat_minor": 1
}
